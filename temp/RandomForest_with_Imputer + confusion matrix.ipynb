{
  "cells": [
    {
      "cell_type": "code",
      "execution_count": null,
      "metadata": {
        "colab": {
          "base_uri": "https://localhost:8080/"
        },
        "id": "P2mcDIxF1BO2",
        "outputId": "fad61ab3-3ce8-48ae-b3b1-62738cfb0a24"
      },
      "outputs": [
        {
          "name": "stdout",
          "output_type": "stream",
          "text": [
            "Mounted at /content/drive\n"
          ]
        }
      ],
      "source": [
        "from google.colab import drive\n",
        "drive.mount('/content/drive')"
      ]
    },
    {
      "cell_type": "code",
      "execution_count": null,
      "metadata": {
        "colab": {
          "base_uri": "https://localhost:8080/",
          "height": 35
        },
        "id": "nF3CfIwr9BkK",
        "outputId": "7b820ebd-afdc-40ab-a46a-cc54bd44c28d"
      },
      "outputs": [
        {
          "data": {
            "application/vnd.google.colaboratory.intrinsic+json": {
              "type": "string"
            },
            "text/plain": [
              "'/content'"
            ]
          },
          "execution_count": 3,
          "metadata": {},
          "output_type": "execute_result"
        }
      ],
      "source": [
        "import os\n",
        "os.getcwd()"
      ]
    },
    {
      "cell_type": "code",
      "execution_count": null,
      "metadata": {
        "id": "_oDYikbH9Cde"
      },
      "outputs": [],
      "source": [
        "os.chdir('./drive/MyDrive/Capstone/Capstone1/solarwindPrediction/')"
      ]
    },
    {
      "cell_type": "code",
      "execution_count": null,
      "metadata": {
        "id": "i3JMgzJx9iab"
      },
      "outputs": [],
      "source": [
        "import numpy as np\n",
        "import pandas as pd"
      ]
    },
    {
      "cell_type": "code",
      "execution_count": null,
      "metadata": {
        "id": "0hy68ddV9XpZ"
      },
      "outputs": [],
      "source": [
        "train_X_data = pd.read_csv('XGBoost/train_set/train_X_data.csv', index_col='datetime', parse_dates=True)\n",
        "test_X_data = pd.read_csv('XGBoost/test_set/test_X_data.csv', index_col='datetime', parse_dates=True)\n",
        "train_Y_data = pd.read_csv('XGBoost/train_set/train_Y_data.csv', index_col='datetime', parse_dates=True)\n",
        "test_Y_data = pd.read_csv('XGBoost/test_set/test_Y_data.csv', index_col='datetime', parse_dates=True)"
      ]
    },
    {
      "cell_type": "code",
      "execution_count": null,
      "metadata": {
        "id": "qJD9Do_yDJCQ"
      },
      "outputs": [],
      "source": [
        "from sklearn.experimental import enable_iterative_imputer\n",
        "from sklearn.impute import IterativeImputer\n",
        "from sklearn.ensemble import RandomForestClassifier\n",
        "from sklearn.ensemble import RandomForestRegressor\n",
        "from sklearn.metrics import accuracy_score\n",
        "from sklearn.model_selection import train_test_split"
      ]
    },
    {
      "cell_type": "code",
      "execution_count": null,
      "metadata": {
        "id": "YnRBkYF1JnPU"
      },
      "outputs": [],
      "source": [
        "from sklearn.metrics import mean_squared_error"
      ]
    },
    {
      "cell_type": "code",
      "execution_count": null,
      "metadata": {
        "id": "220GR2PCJouR"
      },
      "outputs": [],
      "source": [
        "import torch\n",
        "\n",
        "# WRMSE 함수 정의\n",
        "def WRMSE(predictions, answers):\n",
        "    sum_answer = answers.sum().item()  # DataFrame에서 직접 합 계산\n",
        "    if sum_answer == 0:\n",
        "        return torch.sqrt(torch.tensor(0.001, dtype=torch.float))\n",
        "    weights = answers / sum_answer  # 각 값에 대해 가중치 계산\n",
        "    loss = (weights * (predictions - answers).pow(2)).sum().item()  # 가중치 적용한 오차 제곱합\n",
        "    return torch.sqrt(torch.tensor(loss, dtype=torch.float))"
      ]
    },
    {
      "cell_type": "markdown",
      "metadata": {
        "id": "FVxpFwKgM9Sa"
      },
      "source": [
        "# 1. RandomForestRegressor(+ 반올림) - 결측치처리 IterativeImputer 사용\n",
        "다중 회귀를 사용하여 결측치 예측\n",
        "- 각 feature에 대해 회귀 모델을 학습하고, 이를 사용하여 결측치 예측"
      ]
    },
    {
      "cell_type": "code",
      "execution_count": null,
      "metadata": {
        "id": "NB5toyDxM-fa"
      },
      "outputs": [],
      "source": [
        "# IterativeImputer를 사용하여 결측치 처리\n",
        "imputerIterative = IterativeImputer(random_state=42)\n",
        "X_train_imputed1 = imputerIterative.fit_transform(train_X_data)\n",
        "X_test_imputed1 = imputerIterative.transform(test_X_data)"
      ]
    },
    {
      "cell_type": "code",
      "execution_count": null,
      "metadata": {
        "id": "iomfhoT6NYBa"
      },
      "outputs": [],
      "source": [
        "num_features = train_X_data.shape[1]\n",
        "max_features_value = int(num_features / 3)"
      ]
    },
    {
      "cell_type": "code",
      "execution_count": null,
      "metadata": {
        "colab": {
          "base_uri": "https://localhost:8080/"
        },
        "id": "-IRvzdAj9jC7",
        "outputId": "38fd166a-0641-44ba-9b6b-e6bf48dda396"
      },
      "outputs": [
        {
          "name": "stderr",
          "output_type": "stream",
          "text": [
            "/usr/local/lib/python3.10/dist-packages/sklearn/base.py:1152: DataConversionWarning: A column-vector y was passed when a 1d array was expected. Please change the shape of y to (n_samples,), for example using ravel().\n",
            "  return fit_method(estimator, *args, **kwargs)\n"
          ]
        }
      ],
      "source": [
        "# RandomForestRegressor 학습 및 평가\n",
        "modelIterative = RandomForestRegressor(n_estimators=700,\n",
        "                                       max_features = max_features_value,\n",
        "                                       max_depth = 15,\n",
        "                                       min_samples_leaf = 5,\n",
        "                                       min_samples_split = 15,\n",
        "                                       )\n",
        "modelIterative.fit(X_train_imputed1, train_Y_data)\n",
        "\n",
        "# 예측 및 평가\n",
        "y_pred1 = modelIterative.predict(X_test_imputed1)"
      ]
    },
    {
      "cell_type": "code",
      "execution_count": null,
      "metadata": {
        "id": "0pmdcRH2M1My"
      },
      "outputs": [],
      "source": [
        "# 예측값을 정수로 변환\n",
        "preds_rounded1 = np.round(y_pred1).astype(int)\n",
        "\n",
        "# 예측값을 0~9 사이의 값으로 클리핑\n",
        "preds_clipped1 = np.clip(preds_rounded1, 0, 9)  # 클리핑 : 데이터의 값을 특정 범위로 제한하는 것. (여기선 0~9로 제한)"
      ]
    },
    {
      "cell_type": "code",
      "execution_count": null,
      "metadata": {
        "colab": {
          "base_uri": "https://localhost:8080/"
        },
        "id": "neMtoIbx916o",
        "outputId": "3ba94995-96f0-4b1e-eb87-72d87bcf34a7"
      },
      "outputs": [
        {
          "name": "stdout",
          "output_type": "stream",
          "text": [
            "RMSE: 0.7205401322561991\n"
          ]
        }
      ],
      "source": [
        "# 평가 (예: RMSE 계산)\n",
        "rmse = np.sqrt(mean_squared_error(test_Y_data, preds_clipped1))\n",
        "print(f\"RMSE: {rmse}\")"
      ]
    },
    {
      "cell_type": "code",
      "execution_count": null,
      "metadata": {
        "colab": {
          "base_uri": "https://localhost:8080/"
        },
        "id": "IUy99o9bJhKf",
        "outputId": "32fd7a38-3932-4234-e195-13913b35f741"
      },
      "outputs": [
        {
          "name": "stdout",
          "output_type": "stream",
          "text": [
            "tensor(0.7242)\n"
          ]
        }
      ],
      "source": [
        "wrmse = WRMSE(y_pred1, test_Y_data['Kp'])\n",
        "print(wrmse)"
      ]
    },
    {
      "cell_type": "code",
      "execution_count": null,
      "metadata": {
        "colab": {
          "base_uri": "https://localhost:8080/"
        },
        "id": "pb7sVr-lLMt8",
        "outputId": "c81b4905-679f-4c61-aa94-10de597077a6"
      },
      "outputs": [
        {
          "name": "stdout",
          "output_type": "stream",
          "text": [
            "Test R^2: 0.6068336122280418\n"
          ]
        }
      ],
      "source": [
        "r2 = r2_score(test_Y_data['Kp'], preds_clipped1)\n",
        "\n",
        "print(f'Test R^2: {r2}')"
      ]
    },
    {
      "cell_type": "markdown",
      "metadata": {
        "id": "gNxY3c0-NN_L"
      },
      "source": [
        "# 2. RandomForestRegressor(+ 반올림) - 결측치처리 SimpleImputer 사용\n",
        "평균으로 결측치 채움\n",
        "\n",
        "- mean: 해당 열의 평균으로\n",
        "- median: 해당 열의 중앙값으로\n",
        "- most_frequent: 해당 열에서 가장 자주 나타나는 값으로\n",
        "- constant : 사용자가 지정한 상수로"
      ]
    },
    {
      "cell_type": "code",
      "execution_count": null,
      "metadata": {
        "id": "STWrE961Jpll"
      },
      "outputs": [],
      "source": [
        "from sklearn.impute import SimpleImputer"
      ]
    },
    {
      "cell_type": "code",
      "execution_count": null,
      "metadata": {
        "id": "pKJXjVyfNWga"
      },
      "outputs": [],
      "source": [
        "# SimpleImputer를 사용하여 결측치 처리\n",
        "imputerSimple = SimpleImputer(strategy='most_frequent')  # 평균으로 결측치 채우기\n",
        "X_train_imputed2 = imputerSimple.fit_transform(train_X_data)\n",
        "X_test_imputed2 = imputerSimple.transform(test_X_data)"
      ]
    },
    {
      "cell_type": "code",
      "execution_count": null,
      "metadata": {
        "id": "DfuY9rwVjXZX"
      },
      "outputs": [],
      "source": [
        "num_features = X_train_imputed2.shape[1]\n",
        "max_features_value = int(num_features / 3)"
      ]
    },
    {
      "cell_type": "code",
      "execution_count": null,
      "metadata": {
        "colab": {
          "base_uri": "https://localhost:8080/",
          "height": 147
        },
        "id": "TJFZYW_0NYTd",
        "outputId": "5d7a8782-2d69-4b34-f07e-ca41f8ce26a1"
      },
      "outputs": [
        {
          "name": "stderr",
          "output_type": "stream",
          "text": [
            "/usr/local/lib/python3.10/dist-packages/sklearn/base.py:1152: DataConversionWarning: A column-vector y was passed when a 1d array was expected. Please change the shape of y to (n_samples,), for example using ravel().\n",
            "  return fit_method(estimator, *args, **kwargs)\n"
          ]
        },
        {
          "data": {
            "text/html": [
              "<style>#sk-container-id-7 {color: black;}#sk-container-id-7 pre{padding: 0;}#sk-container-id-7 div.sk-toggleable {background-color: white;}#sk-container-id-7 label.sk-toggleable__label {cursor: pointer;display: block;width: 100%;margin-bottom: 0;padding: 0.3em;box-sizing: border-box;text-align: center;}#sk-container-id-7 label.sk-toggleable__label-arrow:before {content: \"▸\";float: left;margin-right: 0.25em;color: #696969;}#sk-container-id-7 label.sk-toggleable__label-arrow:hover:before {color: black;}#sk-container-id-7 div.sk-estimator:hover label.sk-toggleable__label-arrow:before {color: black;}#sk-container-id-7 div.sk-toggleable__content {max-height: 0;max-width: 0;overflow: hidden;text-align: left;background-color: #f0f8ff;}#sk-container-id-7 div.sk-toggleable__content pre {margin: 0.2em;color: black;border-radius: 0.25em;background-color: #f0f8ff;}#sk-container-id-7 input.sk-toggleable__control:checked~div.sk-toggleable__content {max-height: 200px;max-width: 100%;overflow: auto;}#sk-container-id-7 input.sk-toggleable__control:checked~label.sk-toggleable__label-arrow:before {content: \"▾\";}#sk-container-id-7 div.sk-estimator input.sk-toggleable__control:checked~label.sk-toggleable__label {background-color: #d4ebff;}#sk-container-id-7 div.sk-label input.sk-toggleable__control:checked~label.sk-toggleable__label {background-color: #d4ebff;}#sk-container-id-7 input.sk-hidden--visually {border: 0;clip: rect(1px 1px 1px 1px);clip: rect(1px, 1px, 1px, 1px);height: 1px;margin: -1px;overflow: hidden;padding: 0;position: absolute;width: 1px;}#sk-container-id-7 div.sk-estimator {font-family: monospace;background-color: #f0f8ff;border: 1px dotted black;border-radius: 0.25em;box-sizing: border-box;margin-bottom: 0.5em;}#sk-container-id-7 div.sk-estimator:hover {background-color: #d4ebff;}#sk-container-id-7 div.sk-parallel-item::after {content: \"\";width: 100%;border-bottom: 1px solid gray;flex-grow: 1;}#sk-container-id-7 div.sk-label:hover label.sk-toggleable__label {background-color: #d4ebff;}#sk-container-id-7 div.sk-serial::before {content: \"\";position: absolute;border-left: 1px solid gray;box-sizing: border-box;top: 0;bottom: 0;left: 50%;z-index: 0;}#sk-container-id-7 div.sk-serial {display: flex;flex-direction: column;align-items: center;background-color: white;padding-right: 0.2em;padding-left: 0.2em;position: relative;}#sk-container-id-7 div.sk-item {position: relative;z-index: 1;}#sk-container-id-7 div.sk-parallel {display: flex;align-items: stretch;justify-content: center;background-color: white;position: relative;}#sk-container-id-7 div.sk-item::before, #sk-container-id-7 div.sk-parallel-item::before {content: \"\";position: absolute;border-left: 1px solid gray;box-sizing: border-box;top: 0;bottom: 0;left: 50%;z-index: -1;}#sk-container-id-7 div.sk-parallel-item {display: flex;flex-direction: column;z-index: 1;position: relative;background-color: white;}#sk-container-id-7 div.sk-parallel-item:first-child::after {align-self: flex-end;width: 50%;}#sk-container-id-7 div.sk-parallel-item:last-child::after {align-self: flex-start;width: 50%;}#sk-container-id-7 div.sk-parallel-item:only-child::after {width: 0;}#sk-container-id-7 div.sk-dashed-wrapped {border: 1px dashed gray;margin: 0 0.4em 0.5em 0.4em;box-sizing: border-box;padding-bottom: 0.4em;background-color: white;}#sk-container-id-7 div.sk-label label {font-family: monospace;font-weight: bold;display: inline-block;line-height: 1.2em;}#sk-container-id-7 div.sk-label-container {text-align: center;}#sk-container-id-7 div.sk-container {/* jupyter's `normalize.less` sets `[hidden] { display: none; }` but bootstrap.min.css set `[hidden] { display: none !important; }` so we also need the `!important` here to be able to override the default hidden behavior on the sphinx rendered scikit-learn.org. See: https://github.com/scikit-learn/scikit-learn/issues/21755 */display: inline-block !important;position: relative;}#sk-container-id-7 div.sk-text-repr-fallback {display: none;}</style><div id=\"sk-container-id-7\" class=\"sk-top-container\"><div class=\"sk-text-repr-fallback\"><pre>RandomForestRegressor(max_depth=15, max_features=11, min_samples_leaf=5,\n",
              "                      min_samples_split=15, n_estimators=700)</pre><b>In a Jupyter environment, please rerun this cell to show the HTML representation or trust the notebook. <br />On GitHub, the HTML representation is unable to render, please try loading this page with nbviewer.org.</b></div><div class=\"sk-container\" hidden><div class=\"sk-item\"><div class=\"sk-estimator sk-toggleable\"><input class=\"sk-toggleable__control sk-hidden--visually\" id=\"sk-estimator-id-7\" type=\"checkbox\" checked><label for=\"sk-estimator-id-7\" class=\"sk-toggleable__label sk-toggleable__label-arrow\">RandomForestRegressor</label><div class=\"sk-toggleable__content\"><pre>RandomForestRegressor(max_depth=15, max_features=11, min_samples_leaf=5,\n",
              "                      min_samples_split=15, n_estimators=700)</pre></div></div></div></div></div>"
            ],
            "text/plain": [
              "RandomForestRegressor(max_depth=15, max_features=11, min_samples_leaf=5,\n",
              "                      min_samples_split=15, n_estimators=700)"
            ]
          },
          "execution_count": 86,
          "metadata": {},
          "output_type": "execute_result"
        }
      ],
      "source": [
        "# RandomForestClassifier 학습 및 평가\n",
        "modelSimple = RandomForestRegressor(n_estimators=700,\n",
        "                                       max_features = max_features_value,\n",
        "                                       max_depth = 15,\n",
        "                                       min_samples_leaf = 5,\n",
        "                                       min_samples_split = 15\n",
        "                                    )\n",
        "modelSimple.fit(X_train_imputed2, train_Y_data)\n"
      ]
    },
    {
      "cell_type": "code",
      "execution_count": null,
      "metadata": {
        "id": "ei2Cw5OYNYid"
      },
      "outputs": [],
      "source": [
        "# 예측 및 평가\n",
        "y_pred2 = modelSimple.predict(X_test_imputed2)"
      ]
    },
    {
      "cell_type": "code",
      "execution_count": null,
      "metadata": {
        "id": "deASAncKNvd3"
      },
      "outputs": [],
      "source": [
        "# 예측값을 정수로 변환\n",
        "preds_rounded2 = np.round(y_pred2).astype(int)\n",
        "\n",
        "# 예측값을 0~9 사이의 값으로 클리핑\n",
        "preds_clipped2 = np.clip(preds_rounded2, 0, 9)  # 클리핑 : 데이터의 값을 특정 범위로 제한하는 것. (여기선 0~9로 제한)"
      ]
    },
    {
      "cell_type": "code",
      "execution_count": null,
      "metadata": {
        "colab": {
          "base_uri": "https://localhost:8080/"
        },
        "id": "OKfOxnvRNzay",
        "outputId": "e6506d63-390e-4659-ac00-516bbac28236"
      },
      "outputs": [
        {
          "name": "stdout",
          "output_type": "stream",
          "text": [
            "RMSE: 0.7233862531406556\n"
          ]
        }
      ],
      "source": [
        "# 평가 (예: RMSE 계산)\n",
        "rmse = np.sqrt(mean_squared_error(test_Y_data, preds_clipped2))\n",
        "print(f\"RMSE: {rmse}\")"
      ]
    },
    {
      "cell_type": "code",
      "execution_count": null,
      "metadata": {
        "colab": {
          "base_uri": "https://localhost:8080/"
        },
        "id": "iTwiI51mN0dj",
        "outputId": "aeb0d77a-7663-4ae9-d0c4-80838d7aceb6"
      },
      "outputs": [
        {
          "name": "stdout",
          "output_type": "stream",
          "text": [
            "tensor(0.7712)\n"
          ]
        }
      ],
      "source": [
        "wrmse = WRMSE(preds_clipped2, test_Y_data['Kp'])\n",
        "print(wrmse)"
      ]
    },
    {
      "cell_type": "code",
      "execution_count": null,
      "metadata": {
        "colab": {
          "base_uri": "https://localhost:8080/"
        },
        "id": "0gRUIgCGML5k",
        "outputId": "1128b9df-05e4-43b1-e4c0-8b9b59d4e993"
      },
      "outputs": [
        {
          "name": "stdout",
          "output_type": "stream",
          "text": [
            "Test R^2: 0.6008250893584371\n"
          ]
        }
      ],
      "source": [
        "r2 = r2_score(test_Y_data['Kp'], preds_clipped2)\n",
        "\n",
        "print(f'Test R^2: {r2}')"
      ]
    },
    {
      "cell_type": "code",
      "execution_count": null,
      "metadata": {
        "colab": {
          "base_uri": "https://localhost:8080/"
        },
        "id": "Zrs3Zp6EjU2F",
        "outputId": "f58ab5e7-57a2-466e-9103-64de03fcdd83"
      },
      "outputs": [
        {
          "name": "stdout",
          "output_type": "stream",
          "text": [
            "MAE: 0.4657534246575342\n",
            "MAPE: inf%\n"
          ]
        }
      ],
      "source": [
        "# MAE 계산\n",
        "mae = mean_absolute_error(test_Y_data['Kp'], preds_clipped2)\n",
        "\n",
        "# MAPE 계산\n",
        "mape = np.mean(np.abs((test_Y_data['Kp'] - preds_clipped2) / test_Y_data['Kp'])) * 100\n",
        "\n",
        "print(f'MAE: {mae}')\n",
        "print(f'MAPE: {mape:.2f}%')"
      ]
    },
    {
      "cell_type": "markdown",
      "metadata": {
        "id": "hCtZ2D1w_C_r"
      },
      "source": [
        "## Confusion Matrix 출력"
      ]
    },
    {
      "cell_type": "code",
      "execution_count": null,
      "metadata": {
        "id": "IpZoa8dKpSEG"
      },
      "outputs": [],
      "source": [
        "from sklearn.metrics import confusion_matrix\n",
        "import matplotlib.pyplot as plt\n",
        "import seaborn as sns"
      ]
    },
    {
      "cell_type": "code",
      "execution_count": null,
      "metadata": {
        "colab": {
          "base_uri": "https://localhost:8080/",
          "height": 641
        },
        "id": "sJb36eMupT2W",
        "outputId": "eed3a348-7f17-4b12-f9ee-b00f193d4ee2"
      },
      "outputs": [
        {
          "data": {
            "image/png": "[encoded data removed]",
            "text/plain": [
              "<Figure size 1000x700 with 2 Axes>"
            ]
          },
          "metadata": {},
          "output_type": "display_data"
        }
      ],
      "source": [
        "# 혼동 행렬을 계산합니다.\n",
        "conf_matrix = confusion_matrix(test_Y_data['Kp'], preds_clipped2, labels=np.arange(10))\n",
        "\n",
        "# 혼동 행렬을 시각화합니다.\n",
        "plt.figure(figsize=(10, 7))\n",
        "sns.heatmap(conf_matrix, annot=True, fmt='d', cmap='Blues', xticklabels=np.arange(10), yticklabels=np.arange(10))\n",
        "plt.xlabel('Predicted')\n",
        "plt.ylabel('True')\n",
        "plt.title('Confusion Matrix')\n",
        "plt.show()"
      ]
    },
    {
      "cell_type": "markdown",
      "metadata": {
        "id": "rEj8EBa4OI7Z"
      },
      "source": [
        "# 3. RandomForestRegressor(+ 반올림) - 결측치처리 KNNImputer 사용\n",
        "K-최근접 이웃(K-Nearest Neighbors) 알고리즘을 사용\n",
        "- 결측치가 있는 샘플과 가장 유사한 K개의 이웃 샘플을 찾아서 평균 값으로 결측치 채운다."
      ]
    },
    {
      "cell_type": "code",
      "execution_count": null,
      "metadata": {
        "id": "CK96MxtqOKaO"
      },
      "outputs": [],
      "source": [
        "from sklearn.impute import KNNImputer"
      ]
    },
    {
      "cell_type": "code",
      "execution_count": null,
      "metadata": {
        "id": "1yzkhfpgOT3t"
      },
      "outputs": [],
      "source": [
        "# KNNImputer를 사용하여 결측치 처리\n",
        "imputerKNN = KNNImputer(n_neighbors=10)\n",
        "X_train_imputed3 = imputerKNN.fit_transform(train_X_data)\n",
        "X_test_imputed3 = imputerKNN.transform(test_X_data)"
      ]
    },
    {
      "cell_type": "code",
      "execution_count": null,
      "metadata": {
        "id": "1k1uDiUbNtTk"
      },
      "outputs": [],
      "source": [
        "num_features = X_train_imputed3.shape[1]\n",
        "max_features_value = int(num_features / 3)"
      ]
    },
    {
      "cell_type": "code",
      "execution_count": null,
      "metadata": {
        "colab": {
          "base_uri": "https://localhost:8080/",
          "height": 147
        },
        "id": "VonpYXstOgEU",
        "outputId": "37f4a7c3-b72d-4a75-ea9c-233971a437ff"
      },
      "outputs": [
        {
          "name": "stderr",
          "output_type": "stream",
          "text": [
            "/usr/local/lib/python3.10/dist-packages/sklearn/base.py:1152: DataConversionWarning: A column-vector y was passed when a 1d array was expected. Please change the shape of y to (n_samples,), for example using ravel().\n",
            "  return fit_method(estimator, *args, **kwargs)\n"
          ]
        },
        {
          "data": {
            "text/html": [
              "<style>#sk-container-id-3 {color: black;}#sk-container-id-3 pre{padding: 0;}#sk-container-id-3 div.sk-toggleable {background-color: white;}#sk-container-id-3 label.sk-toggleable__label {cursor: pointer;display: block;width: 100%;margin-bottom: 0;padding: 0.3em;box-sizing: border-box;text-align: center;}#sk-container-id-3 label.sk-toggleable__label-arrow:before {content: \"▸\";float: left;margin-right: 0.25em;color: #696969;}#sk-container-id-3 label.sk-toggleable__label-arrow:hover:before {color: black;}#sk-container-id-3 div.sk-estimator:hover label.sk-toggleable__label-arrow:before {color: black;}#sk-container-id-3 div.sk-toggleable__content {max-height: 0;max-width: 0;overflow: hidden;text-align: left;background-color: #f0f8ff;}#sk-container-id-3 div.sk-toggleable__content pre {margin: 0.2em;color: black;border-radius: 0.25em;background-color: #f0f8ff;}#sk-container-id-3 input.sk-toggleable__control:checked~div.sk-toggleable__content {max-height: 200px;max-width: 100%;overflow: auto;}#sk-container-id-3 input.sk-toggleable__control:checked~label.sk-toggleable__label-arrow:before {content: \"▾\";}#sk-container-id-3 div.sk-estimator input.sk-toggleable__control:checked~label.sk-toggleable__label {background-color: #d4ebff;}#sk-container-id-3 div.sk-label input.sk-toggleable__control:checked~label.sk-toggleable__label {background-color: #d4ebff;}#sk-container-id-3 input.sk-hidden--visually {border: 0;clip: rect(1px 1px 1px 1px);clip: rect(1px, 1px, 1px, 1px);height: 1px;margin: -1px;overflow: hidden;padding: 0;position: absolute;width: 1px;}#sk-container-id-3 div.sk-estimator {font-family: monospace;background-color: #f0f8ff;border: 1px dotted black;border-radius: 0.25em;box-sizing: border-box;margin-bottom: 0.5em;}#sk-container-id-3 div.sk-estimator:hover {background-color: #d4ebff;}#sk-container-id-3 div.sk-parallel-item::after {content: \"\";width: 100%;border-bottom: 1px solid gray;flex-grow: 1;}#sk-container-id-3 div.sk-label:hover label.sk-toggleable__label {background-color: #d4ebff;}#sk-container-id-3 div.sk-serial::before {content: \"\";position: absolute;border-left: 1px solid gray;box-sizing: border-box;top: 0;bottom: 0;left: 50%;z-index: 0;}#sk-container-id-3 div.sk-serial {display: flex;flex-direction: column;align-items: center;background-color: white;padding-right: 0.2em;padding-left: 0.2em;position: relative;}#sk-container-id-3 div.sk-item {position: relative;z-index: 1;}#sk-container-id-3 div.sk-parallel {display: flex;align-items: stretch;justify-content: center;background-color: white;position: relative;}#sk-container-id-3 div.sk-item::before, #sk-container-id-3 div.sk-parallel-item::before {content: \"\";position: absolute;border-left: 1px solid gray;box-sizing: border-box;top: 0;bottom: 0;left: 50%;z-index: -1;}#sk-container-id-3 div.sk-parallel-item {display: flex;flex-direction: column;z-index: 1;position: relative;background-color: white;}#sk-container-id-3 div.sk-parallel-item:first-child::after {align-self: flex-end;width: 50%;}#sk-container-id-3 div.sk-parallel-item:last-child::after {align-self: flex-start;width: 50%;}#sk-container-id-3 div.sk-parallel-item:only-child::after {width: 0;}#sk-container-id-3 div.sk-dashed-wrapped {border: 1px dashed gray;margin: 0 0.4em 0.5em 0.4em;box-sizing: border-box;padding-bottom: 0.4em;background-color: white;}#sk-container-id-3 div.sk-label label {font-family: monospace;font-weight: bold;display: inline-block;line-height: 1.2em;}#sk-container-id-3 div.sk-label-container {text-align: center;}#sk-container-id-3 div.sk-container {/* jupyter's `normalize.less` sets `[hidden] { display: none; }` but bootstrap.min.css set `[hidden] { display: none !important; }` so we also need the `!important` here to be able to override the default hidden behavior on the sphinx rendered scikit-learn.org. See: https://github.com/scikit-learn/scikit-learn/issues/21755 */display: inline-block !important;position: relative;}#sk-container-id-3 div.sk-text-repr-fallback {display: none;}</style><div id=\"sk-container-id-3\" class=\"sk-top-container\"><div class=\"sk-text-repr-fallback\"><pre>RandomForestRegressor(max_depth=15, max_features=11, min_samples_leaf=5,\n",
              "                      min_samples_split=15, n_estimators=700)</pre><b>In a Jupyter environment, please rerun this cell to show the HTML representation or trust the notebook. <br />On GitHub, the HTML representation is unable to render, please try loading this page with nbviewer.org.</b></div><div class=\"sk-container\" hidden><div class=\"sk-item\"><div class=\"sk-estimator sk-toggleable\"><input class=\"sk-toggleable__control sk-hidden--visually\" id=\"sk-estimator-id-3\" type=\"checkbox\" checked><label for=\"sk-estimator-id-3\" class=\"sk-toggleable__label sk-toggleable__label-arrow\">RandomForestRegressor</label><div class=\"sk-toggleable__content\"><pre>RandomForestRegressor(max_depth=15, max_features=11, min_samples_leaf=5,\n",
              "                      min_samples_split=15, n_estimators=700)</pre></div></div></div></div></div>"
            ],
            "text/plain": [
              "RandomForestRegressor(max_depth=15, max_features=11, min_samples_leaf=5,\n",
              "                      min_samples_split=15, n_estimators=700)"
            ]
          },
          "execution_count": 40,
          "metadata": {},
          "output_type": "execute_result"
        }
      ],
      "source": [
        "# RandomForestClassifier 학습 및 평가\n",
        "modelKNN = RandomForestRegressor(n_estimators=700,\n",
        "                                max_features = max_features_value,\n",
        "                                max_depth = 15,\n",
        "                                min_samples_leaf = 5,\n",
        "                                min_samples_split = 15\n",
        "                                )\n",
        "modelKNN.fit(X_train_imputed3, train_Y_data)"
      ]
    },
    {
      "cell_type": "code",
      "execution_count": null,
      "metadata": {
        "id": "sre_ktpSOhHf"
      },
      "outputs": [],
      "source": [
        "# 예측 및 평가\n",
        "y_pred3 = modelKNN.predict(X_test_imputed3)"
      ]
    },
    {
      "cell_type": "code",
      "execution_count": null,
      "metadata": {
        "id": "0VNSQZgZOh__"
      },
      "outputs": [],
      "source": [
        "# 예측값을 정수로 변환\n",
        "preds_rounded3 = np.round(y_pred3).astype(int)\n",
        "\n",
        "# 예측값을 0~9 사이의 값으로 클리핑\n",
        "preds_clipped3 = np.clip(preds_rounded3, 0, 9)  # 클리핑 : 데이터의 값을 특정 범위로 제한하는 것. (여기선 0~9로 제한)"
      ]
    },
    {
      "cell_type": "code",
      "execution_count": null,
      "metadata": {
        "colab": {
          "base_uri": "https://localhost:8080/"
        },
        "id": "MPT9-taxOiz2",
        "outputId": "ea44c494-5a2e-4b26-f51b-714a8d9928cd"
      },
      "outputs": [
        {
          "name": "stdout",
          "output_type": "stream",
          "text": [
            "RMSE: 0.7250413308955906\n"
          ]
        }
      ],
      "source": [
        "# 평가 (예: RMSE 계산)\n",
        "rmse = np.sqrt(mean_squared_error(test_Y_data, preds_clipped3))\n",
        "print(f\"RMSE: {rmse}\")"
      ]
    },
    {
      "cell_type": "code",
      "execution_count": null,
      "metadata": {
        "colab": {
          "base_uri": "https://localhost:8080/"
        },
        "id": "NZzQX17YOjkJ",
        "outputId": "ede506c0-10ff-4cce-a4fd-9174cb50506d"
      },
      "outputs": [
        {
          "name": "stdout",
          "output_type": "stream",
          "text": [
            "tensor(0.7766)\n"
          ]
        }
      ],
      "source": [
        "wrmse = WRMSE(preds_clipped3, test_Y_data['Kp'])\n",
        "print(wrmse)"
      ]
    },
    {
      "cell_type": "code",
      "execution_count": null,
      "metadata": {
        "colab": {
          "base_uri": "https://localhost:8080/"
        },
        "id": "xYcNGFcFMQDZ",
        "outputId": "1ba1ba2f-fe94-4f7d-d8f5-654295b05769"
      },
      "outputs": [
        {
          "name": "stdout",
          "output_type": "stream",
          "text": [
            "Test R^2: 0.5989964084850792\n"
          ]
        }
      ],
      "source": [
        "r2 = r2_score(test_Y_data['Kp'], preds_clipped3)\n",
        "\n",
        "print(f'Test R^2: {r2}')"
      ]
    },
    {
      "cell_type": "code",
      "execution_count": null,
      "metadata": {
        "colab": {
          "base_uri": "https://localhost:8080/"
        },
        "id": "MvsNdkZmjpri",
        "outputId": "d5b8eda0-769d-48a7-b5d1-1bcc01c1d141"
      },
      "outputs": [
        {
          "name": "stdout",
          "output_type": "stream",
          "text": [
            "MAE: 0.46678082191780823\n",
            "MAPE: inf%\n"
          ]
        }
      ],
      "source": [
        "# MAE 계산\n",
        "mae = mean_absolute_error(test_Y_data['Kp'], preds_clipped3)\n",
        "\n",
        "# MAPE 계산\n",
        "mape = np.mean(np.abs((test_Y_data['Kp'] - preds_clipped3) / test_Y_data['Kp'])) * 100\n",
        "\n",
        "print(f'MAE: {mae}')\n",
        "print(f'MAPE: {mape:.2f}%')"
      ]
    },
    {
      "cell_type": "markdown",
      "metadata": {
        "id": "GzsNQT0xePz9"
      },
      "source": [
        "# 4. 정규분포 사용하여 열마다 다른 결측치 처리"
      ]
    },
    {
      "cell_type": "code",
      "execution_count": null,
      "metadata": {
        "id": "njiqL79VXUzc"
      },
      "outputs": [],
      "source": [
        "from scipy.stats import shapiro\n",
        "\n",
        "# 정규성 검사를 수행할 열을 선택\n",
        "columns_with_missing_values = train_X_data.columns[train_X_data.isnull().any()]\n",
        "\n",
        "for column in columns_with_missing_values:\n",
        "    # 결측치를 제외한 데이터로 정규성 검사\n",
        "    data_without_na = train_X_data[column].dropna()\n",
        "\n",
        "    stat, p_value = shapiro(data_without_na)\n",
        "    print(f\"Column: {column}, p-value: {p_value}\")\n",
        "\n",
        "    # p-value가 0.05보다 크면 /'정규성을 따른다고 가정\n",
        "    if p_value > 0.05:\n",
        "        print(f\"{column}: 데이터가 정규 분포를 따릅니다. 평균을 사용합니다.\")\n",
        "    else:\n",
        "        print(f\"{column}: 데이터가 정규 분포를 따르지 않습니다. 최빈값을 사용합니다.\")\n"
      ]
    },
    {
      "cell_type": "code",
      "execution_count": null,
      "metadata": {
        "colab": {
          "base_uri": "https://localhost:8080/"
        },
        "id": "8ir2l0sQeXfc",
        "outputId": "21312e1c-bb54-48e7-ac34-62d95851aced"
      },
      "outputs": [
        {
          "name": "stderr",
          "output_type": "stream",
          "text": [
            "/usr/local/lib/python3.10/dist-packages/scipy/stats/_axis_nan_policy.py:531: UserWarning: scipy.stats.shapiro: For N > 5000, computed p-value may not be accurate. Current N is 28554.\n",
            "  res = hypotest_fun_out(*samples, **kwds)\n",
            "/usr/local/lib/python3.10/dist-packages/scipy/stats/_axis_nan_policy.py:531: UserWarning: scipy.stats.shapiro: For N > 5000, computed p-value may not be accurate. Current N is 28554.\n",
            "  res = hypotest_fun_out(*samples, **kwds)\n",
            "/usr/local/lib/python3.10/dist-packages/scipy/stats/_axis_nan_policy.py:531: UserWarning: scipy.stats.shapiro: For N > 5000, computed p-value may not be accurate. Current N is 28521.\n",
            "  res = hypotest_fun_out(*samples, **kwds)\n",
            "/usr/local/lib/python3.10/dist-packages/scipy/stats/_axis_nan_policy.py:531: UserWarning: scipy.stats.shapiro: For N > 5000, computed p-value may not be accurate. Current N is 28554.\n",
            "  res = hypotest_fun_out(*samples, **kwds)\n",
            "/usr/local/lib/python3.10/dist-packages/scipy/stats/_axis_nan_policy.py:531: UserWarning: scipy.stats.shapiro: For N > 5000, computed p-value may not be accurate. Current N is 33635.\n",
            "  res = hypotest_fun_out(*samples, **kwds)\n",
            "/usr/local/lib/python3.10/dist-packages/scipy/stats/_axis_nan_policy.py:531: UserWarning: scipy.stats.shapiro: For N > 5000, computed p-value may not be accurate. Current N is 33635.\n",
            "  res = hypotest_fun_out(*samples, **kwds)\n",
            "/usr/local/lib/python3.10/dist-packages/scipy/stats/_axis_nan_policy.py:531: UserWarning: scipy.stats.shapiro: For N > 5000, computed p-value may not be accurate. Current N is 33635.\n",
            "  res = hypotest_fun_out(*samples, **kwds)\n",
            "/usr/local/lib/python3.10/dist-packages/scipy/stats/_axis_nan_policy.py:531: UserWarning: scipy.stats.shapiro: For N > 5000, computed p-value may not be accurate. Current N is 33600.\n",
            "  res = hypotest_fun_out(*samples, **kwds)\n",
            "/usr/local/lib/python3.10/dist-packages/scipy/stats/_axis_nan_policy.py:531: UserWarning: scipy.stats.shapiro: For N > 5000, computed p-value may not be accurate. Current N is 33635.\n",
            "  res = hypotest_fun_out(*samples, **kwds)\n",
            "/usr/local/lib/python3.10/dist-packages/scipy/stats/_axis_nan_policy.py:531: UserWarning: scipy.stats.shapiro: For N > 5000, computed p-value may not be accurate. Current N is 40412.\n",
            "  res = hypotest_fun_out(*samples, **kwds)\n",
            "/usr/local/lib/python3.10/dist-packages/scipy/stats/_axis_nan_policy.py:531: UserWarning: scipy.stats.shapiro: For N > 5000, computed p-value may not be accurate. Current N is 40412.\n",
            "  res = hypotest_fun_out(*samples, **kwds)\n",
            "/usr/local/lib/python3.10/dist-packages/scipy/stats/_axis_nan_policy.py:531: UserWarning: scipy.stats.shapiro: For N > 5000, computed p-value may not be accurate. Current N is 40412.\n",
            "  res = hypotest_fun_out(*samples, **kwds)\n",
            "/usr/local/lib/python3.10/dist-packages/scipy/stats/_axis_nan_policy.py:531: UserWarning: scipy.stats.shapiro: For N > 5000, computed p-value may not be accurate. Current N is 40411.\n",
            "  res = hypotest_fun_out(*samples, **kwds)\n",
            "/usr/local/lib/python3.10/dist-packages/scipy/stats/_axis_nan_policy.py:531: UserWarning: scipy.stats.shapiro: For N > 5000, computed p-value may not be accurate. Current N is 40412.\n",
            "  res = hypotest_fun_out(*samples, **kwds)\n",
            "/usr/local/lib/python3.10/dist-packages/scipy/stats/_axis_nan_policy.py:531: UserWarning: scipy.stats.shapiro: For N > 5000, computed p-value may not be accurate. Current N is 40902.\n",
            "  res = hypotest_fun_out(*samples, **kwds)\n",
            "/usr/local/lib/python3.10/dist-packages/scipy/stats/_axis_nan_policy.py:531: UserWarning: scipy.stats.shapiro: For N > 5000, computed p-value may not be accurate. Current N is 40902.\n",
            "  res = hypotest_fun_out(*samples, **kwds)\n",
            "/usr/local/lib/python3.10/dist-packages/scipy/stats/_axis_nan_policy.py:531: UserWarning: scipy.stats.shapiro: For N > 5000, computed p-value may not be accurate. Current N is 40902.\n",
            "  res = hypotest_fun_out(*samples, **kwds)\n",
            "/usr/local/lib/python3.10/dist-packages/scipy/stats/_axis_nan_policy.py:531: UserWarning: scipy.stats.shapiro: For N > 5000, computed p-value may not be accurate. Current N is 40901.\n",
            "  res = hypotest_fun_out(*samples, **kwds)\n",
            "/usr/local/lib/python3.10/dist-packages/scipy/stats/_axis_nan_policy.py:531: UserWarning: scipy.stats.shapiro: For N > 5000, computed p-value may not be accurate. Current N is 40902.\n",
            "  res = hypotest_fun_out(*samples, **kwds)\n",
            "/usr/local/lib/python3.10/dist-packages/scipy/stats/_axis_nan_policy.py:531: UserWarning: scipy.stats.shapiro: For N > 5000, computed p-value may not be accurate. Current N is 40902.\n",
            "  res = hypotest_fun_out(*samples, **kwds)\n",
            "/usr/local/lib/python3.10/dist-packages/scipy/stats/_axis_nan_policy.py:531: UserWarning: scipy.stats.shapiro: For N > 5000, computed p-value may not be accurate. Current N is 40902.\n",
            "  res = hypotest_fun_out(*samples, **kwds)\n",
            "/usr/local/lib/python3.10/dist-packages/scipy/stats/_axis_nan_policy.py:531: UserWarning: scipy.stats.shapiro: For N > 5000, computed p-value may not be accurate. Current N is 40902.\n",
            "  res = hypotest_fun_out(*samples, **kwds)\n",
            "/usr/local/lib/python3.10/dist-packages/scipy/stats/_axis_nan_policy.py:531: UserWarning: scipy.stats.shapiro: For N > 5000, computed p-value may not be accurate. Current N is 40901.\n",
            "  res = hypotest_fun_out(*samples, **kwds)\n",
            "/usr/local/lib/python3.10/dist-packages/scipy/stats/_axis_nan_policy.py:531: UserWarning: scipy.stats.shapiro: For N > 5000, computed p-value may not be accurate. Current N is 40902.\n",
            "  res = hypotest_fun_out(*samples, **kwds)\n",
            "/usr/local/lib/python3.10/dist-packages/scipy/stats/_axis_nan_policy.py:531: UserWarning: scipy.stats.shapiro: For N > 5000, computed p-value may not be accurate. Current N is 40902.\n",
            "  res = hypotest_fun_out(*samples, **kwds)\n",
            "/usr/local/lib/python3.10/dist-packages/scipy/stats/_axis_nan_policy.py:531: UserWarning: scipy.stats.shapiro: For N > 5000, computed p-value may not be accurate. Current N is 40902.\n",
            "  res = hypotest_fun_out(*samples, **kwds)\n",
            "/usr/local/lib/python3.10/dist-packages/scipy/stats/_axis_nan_policy.py:531: UserWarning: scipy.stats.shapiro: For N > 5000, computed p-value may not be accurate. Current N is 40902.\n",
            "  res = hypotest_fun_out(*samples, **kwds)\n",
            "/usr/local/lib/python3.10/dist-packages/scipy/stats/_axis_nan_policy.py:531: UserWarning: scipy.stats.shapiro: For N > 5000, computed p-value may not be accurate. Current N is 40901.\n",
            "  res = hypotest_fun_out(*samples, **kwds)\n",
            "/usr/local/lib/python3.10/dist-packages/scipy/stats/_axis_nan_policy.py:531: UserWarning: scipy.stats.shapiro: For N > 5000, computed p-value may not be accurate. Current N is 40902.\n",
            "  res = hypotest_fun_out(*samples, **kwds)\n",
            "/usr/local/lib/python3.10/dist-packages/scipy/stats/_axis_nan_policy.py:531: UserWarning: scipy.stats.shapiro: For N > 5000, computed p-value may not be accurate. Current N is 40902.\n",
            "  res = hypotest_fun_out(*samples, **kwds)\n",
            "/usr/local/lib/python3.10/dist-packages/scipy/stats/_axis_nan_policy.py:531: UserWarning: scipy.stats.shapiro: For N > 5000, computed p-value may not be accurate. Current N is 40902.\n",
            "  res = hypotest_fun_out(*samples, **kwds)\n",
            "/usr/local/lib/python3.10/dist-packages/scipy/stats/_axis_nan_policy.py:531: UserWarning: scipy.stats.shapiro: For N > 5000, computed p-value may not be accurate. Current N is 40902.\n",
            "  res = hypotest_fun_out(*samples, **kwds)\n"
          ]
        },
        {
          "name": "stdout",
          "output_type": "stream",
          "text": [
            "                     Np_min  Np_max   Np_mean    Np_std  Np_median   Tp_min  \\\n",
            "datetime                                                                      \n",
            "1999-01-01 03:00:00   4.673   8.972  6.637235  0.699972     6.6295  61702.0   \n",
            "1999-01-01 06:00:00   4.904   9.705  6.977939  0.891245     6.8650  64082.0   \n",
            "1999-01-01 09:00:00   4.663   9.960  7.402352  0.785921     7.3520  59304.0   \n",
            "1999-01-01 12:00:00   5.411   8.917  7.298018  0.635436     7.2980  74835.0   \n",
            "1999-01-01 15:00:00   4.984   9.327  6.838558  0.624283     6.8200  86183.0   \n",
            "\n",
            "                       Tp_max        Tp_mean        Tp_std  Tp_median  ...  \\\n",
            "datetime                                                               ...   \n",
            "1999-01-01 03:00:00  135540.0   86877.080247  12119.616431    85842.0  ...   \n",
            "1999-01-01 06:00:00  176880.0  102955.228395  17679.980152   101250.0  ...   \n",
            "1999-01-01 09:00:00  163080.0  109935.283951  18262.240706   114025.0  ...   \n",
            "1999-01-01 12:00:00  139790.0  107001.884146  11248.842826   106615.0  ...   \n",
            "1999-01-01 15:00:00  153300.0  111636.085890  10769.579826   111180.0  ...   \n",
            "\n",
            "                     B_gsm_z_min  B_gsm_z_max  B_gsm_z_mean  B_gsm_z_std  \\\n",
            "datetime                                                                   \n",
            "1999-01-01 03:00:00       -3.568        7.252      4.526704     2.319385   \n",
            "1999-01-01 06:00:00       -5.415        7.215      2.324583     3.417957   \n",
            "1999-01-01 09:00:00       -4.562        7.245      2.483077     3.341308   \n",
            "1999-01-01 12:00:00       -6.140        6.202     -0.013870     3.066654   \n",
            "1999-01-01 15:00:00       -4.770        5.622      2.340402     2.762483   \n",
            "\n",
            "                     B_gsm_z_median  Bt_min  Bt_max   Bt_mean    Bt_std  \\\n",
            "datetime                                                                  \n",
            "1999-01-01 03:00:00          5.0470   5.471   7.516  6.918361  0.304905   \n",
            "1999-01-01 06:00:00          3.1265   4.682   7.435  6.576893  0.363070   \n",
            "1999-01-01 09:00:00          3.5590   5.005   7.611  6.230290  0.576127   \n",
            "1999-01-01 12:00:00         -0.1260   5.481   6.511  6.126361  0.190313   \n",
            "1999-01-01 15:00:00          3.3260   5.139   6.111  5.624077  0.195600   \n",
            "\n",
            "                     Bt_median  \n",
            "datetime                        \n",
            "1999-01-01 03:00:00      6.893  \n",
            "1999-01-01 06:00:00      6.630  \n",
            "1999-01-01 09:00:00      6.069  \n",
            "1999-01-01 12:00:00      6.117  \n",
            "1999-01-01 15:00:00      5.620  \n",
            "\n",
            "[5 rows x 35 columns]\n",
            "Np_min            0\n",
            "Np_max            0\n",
            "Np_mean           0\n",
            "Np_std            0\n",
            "Np_median         0\n",
            "Tp_min            0\n",
            "Tp_max            0\n",
            "Tp_mean           0\n",
            "Tp_std            0\n",
            "Tp_median         0\n",
            "Vp_min            0\n",
            "Vp_max            0\n",
            "Vp_mean           0\n",
            "Vp_std            0\n",
            "Vp_median         0\n",
            "B_gsm_x_min       0\n",
            "B_gsm_x_max       0\n",
            "B_gsm_x_mean      0\n",
            "B_gsm_x_std       0\n",
            "B_gsm_x_median    0\n",
            "B_gsm_y_min       0\n",
            "B_gsm_y_max       0\n",
            "B_gsm_y_mean      0\n",
            "B_gsm_y_std       0\n",
            "B_gsm_y_median    0\n",
            "B_gsm_z_min       0\n",
            "B_gsm_z_max       0\n",
            "B_gsm_z_mean      0\n",
            "B_gsm_z_std       0\n",
            "B_gsm_z_median    0\n",
            "Bt_min            0\n",
            "Bt_max            0\n",
            "Bt_mean           0\n",
            "Bt_std            0\n",
            "Bt_median         0\n",
            "dtype: int64\n"
          ]
        },
        {
          "name": "stderr",
          "output_type": "stream",
          "text": [
            "/usr/local/lib/python3.10/dist-packages/scipy/stats/_axis_nan_policy.py:531: UserWarning: scipy.stats.shapiro: For N > 5000, computed p-value may not be accurate. Current N is 40901.\n",
            "  res = hypotest_fun_out(*samples, **kwds)\n",
            "/usr/local/lib/python3.10/dist-packages/scipy/stats/_axis_nan_policy.py:531: UserWarning: scipy.stats.shapiro: For N > 5000, computed p-value may not be accurate. Current N is 40902.\n",
            "  res = hypotest_fun_out(*samples, **kwds)\n"
          ]
        }
      ],
      "source": [
        "from sklearn.impute import SimpleImputer\n",
        "\n",
        "# Imputer 생성\n",
        "mean_imputer = SimpleImputer(strategy='mean')\n",
        "most_frequent_imputer = SimpleImputer(strategy='most_frequent')\n",
        "\n",
        "# 각 열에 대해 적합한 imputer를 적용하여 결측치 채우기\n",
        "for column in columns_with_missing_values:\n",
        "    data_without_na = train_X_data[column].dropna()\n",
        "\n",
        "    stat, p_value = shapiro(data_without_na)\n",
        "\n",
        "    if p_value > 0.05:\n",
        "        # 데이터가 정규 분포를 따르는 경우\n",
        "        imputer = mean_imputer\n",
        "    else:\n",
        "        # 데이터가 정규 분포를 따르지 않는 경우\n",
        "        imputer = most_frequent_imputer\n",
        "\n",
        "    # 해당 열을 2차원 배열로 변환하여 imputer 적용\n",
        "    train_X_data[[column]] = imputer.fit_transform(train_X_data[[column]])\n",
        "\n",
        "# 결과 확인\n",
        "print(train_X_data.head())\n",
        "print(train_X_data.isnull().sum())\n"
      ]
    },
    {
      "cell_type": "code",
      "execution_count": null,
      "metadata": {
        "id": "ClqYxtMfN7tj"
      },
      "outputs": [],
      "source": [
        "num_features = train_X_data.shape[1]\n",
        "max_features_value = int(num_features / 3)"
      ]
    },
    {
      "cell_type": "code",
      "execution_count": null,
      "metadata": {
        "colab": {
          "base_uri": "https://localhost:8080/",
          "height": 147
        },
        "id": "0CLUo3LPeZS4",
        "outputId": "f43a44bf-577f-4c3b-b85c-f6c4bee11e79"
      },
      "outputs": [
        {
          "name": "stderr",
          "output_type": "stream",
          "text": [
            "/usr/local/lib/python3.10/dist-packages/sklearn/base.py:1152: DataConversionWarning: A column-vector y was passed when a 1d array was expected. Please change the shape of y to (n_samples,), for example using ravel().\n",
            "  return fit_method(estimator, *args, **kwargs)\n"
          ]
        },
        {
          "data": {
            "text/html": [
              "<style>#sk-container-id-4 {color: black;}#sk-container-id-4 pre{padding: 0;}#sk-container-id-4 div.sk-toggleable {background-color: white;}#sk-container-id-4 label.sk-toggleable__label {cursor: pointer;display: block;width: 100%;margin-bottom: 0;padding: 0.3em;box-sizing: border-box;text-align: center;}#sk-container-id-4 label.sk-toggleable__label-arrow:before {content: \"▸\";float: left;margin-right: 0.25em;color: #696969;}#sk-container-id-4 label.sk-toggleable__label-arrow:hover:before {color: black;}#sk-container-id-4 div.sk-estimator:hover label.sk-toggleable__label-arrow:before {color: black;}#sk-container-id-4 div.sk-toggleable__content {max-height: 0;max-width: 0;overflow: hidden;text-align: left;background-color: #f0f8ff;}#sk-container-id-4 div.sk-toggleable__content pre {margin: 0.2em;color: black;border-radius: 0.25em;background-color: #f0f8ff;}#sk-container-id-4 input.sk-toggleable__control:checked~div.sk-toggleable__content {max-height: 200px;max-width: 100%;overflow: auto;}#sk-container-id-4 input.sk-toggleable__control:checked~label.sk-toggleable__label-arrow:before {content: \"▾\";}#sk-container-id-4 div.sk-estimator input.sk-toggleable__control:checked~label.sk-toggleable__label {background-color: #d4ebff;}#sk-container-id-4 div.sk-label input.sk-toggleable__control:checked~label.sk-toggleable__label {background-color: #d4ebff;}#sk-container-id-4 input.sk-hidden--visually {border: 0;clip: rect(1px 1px 1px 1px);clip: rect(1px, 1px, 1px, 1px);height: 1px;margin: -1px;overflow: hidden;padding: 0;position: absolute;width: 1px;}#sk-container-id-4 div.sk-estimator {font-family: monospace;background-color: #f0f8ff;border: 1px dotted black;border-radius: 0.25em;box-sizing: border-box;margin-bottom: 0.5em;}#sk-container-id-4 div.sk-estimator:hover {background-color: #d4ebff;}#sk-container-id-4 div.sk-parallel-item::after {content: \"\";width: 100%;border-bottom: 1px solid gray;flex-grow: 1;}#sk-container-id-4 div.sk-label:hover label.sk-toggleable__label {background-color: #d4ebff;}#sk-container-id-4 div.sk-serial::before {content: \"\";position: absolute;border-left: 1px solid gray;box-sizing: border-box;top: 0;bottom: 0;left: 50%;z-index: 0;}#sk-container-id-4 div.sk-serial {display: flex;flex-direction: column;align-items: center;background-color: white;padding-right: 0.2em;padding-left: 0.2em;position: relative;}#sk-container-id-4 div.sk-item {position: relative;z-index: 1;}#sk-container-id-4 div.sk-parallel {display: flex;align-items: stretch;justify-content: center;background-color: white;position: relative;}#sk-container-id-4 div.sk-item::before, #sk-container-id-4 div.sk-parallel-item::before {content: \"\";position: absolute;border-left: 1px solid gray;box-sizing: border-box;top: 0;bottom: 0;left: 50%;z-index: -1;}#sk-container-id-4 div.sk-parallel-item {display: flex;flex-direction: column;z-index: 1;position: relative;background-color: white;}#sk-container-id-4 div.sk-parallel-item:first-child::after {align-self: flex-end;width: 50%;}#sk-container-id-4 div.sk-parallel-item:last-child::after {align-self: flex-start;width: 50%;}#sk-container-id-4 div.sk-parallel-item:only-child::after {width: 0;}#sk-container-id-4 div.sk-dashed-wrapped {border: 1px dashed gray;margin: 0 0.4em 0.5em 0.4em;box-sizing: border-box;padding-bottom: 0.4em;background-color: white;}#sk-container-id-4 div.sk-label label {font-family: monospace;font-weight: bold;display: inline-block;line-height: 1.2em;}#sk-container-id-4 div.sk-label-container {text-align: center;}#sk-container-id-4 div.sk-container {/* jupyter's `normalize.less` sets `[hidden] { display: none; }` but bootstrap.min.css set `[hidden] { display: none !important; }` so we also need the `!important` here to be able to override the default hidden behavior on the sphinx rendered scikit-learn.org. See: https://github.com/scikit-learn/scikit-learn/issues/21755 */display: inline-block !important;position: relative;}#sk-container-id-4 div.sk-text-repr-fallback {display: none;}</style><div id=\"sk-container-id-4\" class=\"sk-top-container\"><div class=\"sk-text-repr-fallback\"><pre>RandomForestRegressor(max_depth=15, max_features=11, min_samples_leaf=5,\n",
              "                      min_samples_split=15, n_estimators=700)</pre><b>In a Jupyter environment, please rerun this cell to show the HTML representation or trust the notebook. <br />On GitHub, the HTML representation is unable to render, please try loading this page with nbviewer.org.</b></div><div class=\"sk-container\" hidden><div class=\"sk-item\"><div class=\"sk-estimator sk-toggleable\"><input class=\"sk-toggleable__control sk-hidden--visually\" id=\"sk-estimator-id-4\" type=\"checkbox\" checked><label for=\"sk-estimator-id-4\" class=\"sk-toggleable__label sk-toggleable__label-arrow\">RandomForestRegressor</label><div class=\"sk-toggleable__content\"><pre>RandomForestRegressor(max_depth=15, max_features=11, min_samples_leaf=5,\n",
              "                      min_samples_split=15, n_estimators=700)</pre></div></div></div></div></div>"
            ],
            "text/plain": [
              "RandomForestRegressor(max_depth=15, max_features=11, min_samples_leaf=5,\n",
              "                      min_samples_split=15, n_estimators=700)"
            ]
          },
          "execution_count": 49,
          "metadata": {},
          "output_type": "execute_result"
        }
      ],
      "source": [
        "from sklearn.ensemble import RandomForestRegressor\n",
        "\n",
        "# 모델 생성\n",
        "rf_regressor = RandomForestRegressor(n_estimators=700,\n",
        "                                       max_features = max_features_value,\n",
        "                                       max_depth = 15,\n",
        "                                       min_samples_leaf = 5,\n",
        "                                       min_samples_split = 15\n",
        "                                     )\n",
        "\n",
        "# 모델 학습\n",
        "rf_regressor.fit(train_X_data, train_Y_data)"
      ]
    },
    {
      "cell_type": "code",
      "execution_count": null,
      "metadata": {
        "colab": {
          "base_uri": "https://localhost:8080/"
        },
        "id": "KDMhfuQ-etuJ",
        "outputId": "ce209d3d-5050-4c12-8a71-1dcbf1fcbc97"
      },
      "outputs": [
        {
          "name": "stdout",
          "output_type": "stream",
          "text": [
            "RMSE: 0.7248051226042933\n"
          ]
        }
      ],
      "source": [
        "# 예측\n",
        "y_pred_test = rf_regressor.predict(test_X_data)\n",
        "\n",
        "# 예측값을 정수로 변환\n",
        "y_pred_test = np.round(y_pred_test).astype(int)\n",
        "\n",
        "# 예측값을 0~9 사이의 값으로 클리핑\n",
        "y_pred_test = np.clip(y_pred_test, 0, 9)  # 클리핑 : 데이터의 값을 특정 범위로 제한하는 것. (여기선 0~9로 제한)\n",
        "\n",
        "# 성능 평가\n",
        "rmse = np.sqrt(mean_squared_error(test_Y_data, y_pred_test))\n",
        "print(f\"RMSE: {rmse}\")"
      ]
    },
    {
      "cell_type": "code",
      "execution_count": null,
      "metadata": {
        "colab": {
          "base_uri": "https://localhost:8080/"
        },
        "id": "JLzXKN42p2GB",
        "outputId": "d907cdda-c430-40be-9950-fe08a2e52efe"
      },
      "outputs": [
        {
          "name": "stdout",
          "output_type": "stream",
          "text": [
            "tensor(0.7741)\n"
          ]
        }
      ],
      "source": [
        "wrmse = WRMSE(y_pred_test, test_Y_data['Kp'])\n",
        "print(wrmse)"
      ]
    },
    {
      "cell_type": "code",
      "execution_count": null,
      "metadata": {
        "id": "Y2-jBsM0KTCw"
      },
      "outputs": [],
      "source": [
        "from sklearn.metrics import mean_absolute_error, mean_squared_error, r2_score"
      ]
    },
    {
      "cell_type": "code",
      "execution_count": null,
      "metadata": {
        "colab": {
          "base_uri": "https://localhost:8080/"
        },
        "id": "WMfKJgHPIg42",
        "outputId": "760ef0ae-2af4-430b-a82f-84aecf3a843a"
      },
      "outputs": [
        {
          "name": "stdout",
          "output_type": "stream",
          "text": [
            "Test R^2: 0.5992576486098447\n"
          ]
        }
      ],
      "source": [
        "\n",
        "r2 = r2_score(test_Y_data['Kp'], y_pred_test)\n",
        "\n",
        "print(f'Test R^2: {r2}')"
      ]
    },
    {
      "cell_type": "code",
      "execution_count": null,
      "metadata": {
        "colab": {
          "base_uri": "https://localhost:8080/"
        },
        "id": "oH4IAQrSLHkY",
        "outputId": "58fdca56-9d07-46e5-a3ce-813f07392664"
      },
      "outputs": [
        {
          "name": "stdout",
          "output_type": "stream",
          "text": [
            "MAE: 0.4657534246575342\n",
            "MAPE: inf%\n"
          ]
        }
      ],
      "source": [
        "# MAE 계산\n",
        "mae = mean_absolute_error(test_Y_data['Kp'], y_pred_test)\n",
        "\n",
        "# MAPE 계산\n",
        "mape = np.mean(np.abs((test_Y_data['Kp'] - y_pred_test) / test_Y_data['Kp'])) * 100\n",
        "\n",
        "print(f'MAE: {mae}')\n",
        "print(f'MAPE: {mape:.2f}%')"
      ]
    },
    {
      "cell_type": "code",
      "execution_count": null,
      "metadata": {
        "id": "I3cgT0oAmUJd"
      },
      "outputs": [],
      "source": []
    }
  ],
  "metadata": {
    "colab": {
      "provenance": []
    },
    "kernelspec": {
      "display_name": "Python 3",
      "name": "python3"
    },
    "language_info": {
      "name": "python"
    }
  },
  "nbformat": 4,
  "nbformat_minor": 0
}
