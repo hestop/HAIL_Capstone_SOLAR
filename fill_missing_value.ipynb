{
 "cells": [
  {
   "cell_type": "markdown",
   "metadata": {},
   "source": [
    "# nan 처리된 데이터 불러오기"
   ]
  },
  {
   "cell_type": "code",
   "execution_count": 1,
   "metadata": {},
   "outputs": [],
   "source": [
    "import pandas as pd\n",
    "import numpy as np\n",
    "from sklearn.ensemble import RandomForestRegressor\n",
    "from sklearn.metrics import mean_absolute_error, mean_squared_error, r2_score\n",
    "import torch\n",
    "\n",
    "# 데이터 로드\n",
    "train_X_data = pd.read_csv('./train_set/train_X_data_nan.csv', index_col='datetime', parse_dates=True)\n",
    "test_X_data = pd.read_csv('./test_set/test_X_data_nan.csv', index_col='datetime', parse_dates=True)\n",
    "\n",
    "train_X_data = train_X_data.apply(pd.to_numeric, errors='coerce') \n",
    "test_X_data = test_X_data.apply(pd.to_numeric, errors='coerce')"
   ]
  },
  {
   "cell_type": "markdown",
   "metadata": {},
   "source": [
    "# 선형보간"
   ]
  },
  {
   "cell_type": "code",
   "execution_count": 6,
   "metadata": {},
   "outputs": [
    {
     "name": "stdout",
     "output_type": "stream",
     "text": [
      "Train X data shape: (40911, 35)\n",
      "Test X data shape: (2920, 35)\n"
     ]
    }
   ],
   "source": [
    "# 선형 보간법을 사용하여 결측값 대체\n",
    "train_X_data_impute = train_X_data.interpolate(method='linear')\n",
    "test_X_data_impute = test_X_data.interpolate(method='linear')\n",
    "\n",
    "# 데이터 확인\n",
    "print(\"Train X data shape:\", train_X_data_impute.shape)\n",
    "print(\"Test X data shape:\", test_X_data_impute.shape)\n",
    "\n",
    "train_X_data_impute.to_csv('./train_set/train_X_data_linear.csv')\n",
    "test_X_data_impute.to_csv('./test_set/test_X_data_linear.csv')"
   ]
  },
  {
   "cell_type": "markdown",
   "metadata": {},
   "source": [
    "# Iterative"
   ]
  },
  {
   "cell_type": "code",
   "execution_count": 3,
   "metadata": {},
   "outputs": [],
   "source": [
    "from sklearn.experimental import enable_iterative_imputer  # 실험적 기능 활성화\n",
    "from sklearn.impute import IterativeImputer\n",
    "from sklearn.impute import KNNImputer\n",
    "from sklearn.impute import SimpleImputer"
   ]
  },
  {
   "cell_type": "code",
   "execution_count": 14,
   "metadata": {},
   "outputs": [
    {
     "name": "stderr",
     "output_type": "stream",
     "text": [
      "/opt/anaconda3/envs/py39/lib/python3.9/site-packages/sklearn/impute/_iterative.py:801: ConvergenceWarning: [IterativeImputer] Early stopping criterion not reached.\n",
      "  warnings.warn(\n"
     ]
    }
   ],
   "source": [
    "# IterativeImputer를 사용하여 결측치 처리\n",
    "imputerIterative = IterativeImputer(random_state=42)\n",
    "X_train_imputed = imputerIterative.fit_transform(train_X_data)\n",
    "X_test_imputed = imputerIterative.transform(test_X_data)"
   ]
  },
  {
   "cell_type": "code",
   "execution_count": 18,
   "metadata": {},
   "outputs": [],
   "source": [
    "X_train_imputed_df = pd.DataFrame(X_train_imputed)\n",
    "X_train_imputed_df.index = train_X_data.index\n",
    "X_train_imputed_df.columns = train_X_data.columns\n",
    "#print(X_train_imputed_df.shape)\n",
    "#print(X_train_imputed_df)\n",
    "\n",
    "X_test_imputed_df = pd.DataFrame(X_test_imputed)\n",
    "X_test_imputed_df.index = test_X_data.index\n",
    "X_test_imputed_df.columns = test_X_data.columns\n",
    "#print(X_test_imputed_df.shape)\n",
    "#print(X_test_imputed_df)"
   ]
  },
  {
   "cell_type": "code",
   "execution_count": 19,
   "metadata": {},
   "outputs": [
    {
     "name": "stdout",
     "output_type": "stream",
     "text": [
      "Train X data shape: (40911, 35)\n",
      "Test X data shape: (2920, 35)\n"
     ]
    }
   ],
   "source": [
    "# 데이터 확인\n",
    "print(\"Train X data shape:\", X_train_imputed_df.shape)\n",
    "print(\"Test X data shape:\", X_test_imputed_df.shape)\n",
    "\n",
    "X_train_imputed_df.to_csv('./train_set/train_X_data_iterative.csv')\n",
    "X_test_imputed_df.to_csv('./test_set/test_X_data_iterative.csv')"
   ]
  },
  {
   "cell_type": "markdown",
   "metadata": {},
   "source": [
    "# KNN"
   ]
  },
  {
   "cell_type": "code",
   "execution_count": 20,
   "metadata": {},
   "outputs": [],
   "source": [
    "# KNNImputer를 사용하여 결측치 처리\n",
    "imputerKNN = KNNImputer(n_neighbors=10)\n",
    "X_train_imputed = imputerKNN.fit_transform(train_X_data)\n",
    "X_test_imputed = imputerKNN.transform(test_X_data)"
   ]
  },
  {
   "cell_type": "code",
   "execution_count": 21,
   "metadata": {},
   "outputs": [],
   "source": [
    "X_train_imputed_df = pd.DataFrame(X_train_imputed)\n",
    "X_train_imputed_df.index = train_X_data.index\n",
    "X_train_imputed_df.columns = train_X_data.columns\n",
    "#print(X_train_imputed_df.shape)\n",
    "#print(X_train_imputed_df)\n",
    "\n",
    "X_test_imputed_df = pd.DataFrame(X_test_imputed)\n",
    "X_test_imputed_df.index = test_X_data.index\n",
    "X_test_imputed_df.columns = test_X_data.columns\n",
    "#print(X_test_imputed_df.shape)\n",
    "#print(X_test_imputed_df)"
   ]
  },
  {
   "cell_type": "code",
   "execution_count": 22,
   "metadata": {},
   "outputs": [
    {
     "name": "stdout",
     "output_type": "stream",
     "text": [
      "Train X data shape: (40911, 35)\n",
      "Test X data shape: (2920, 35)\n"
     ]
    }
   ],
   "source": [
    "# 데이터 확인\n",
    "print(\"Train X data shape:\", X_train_imputed_df.shape)\n",
    "print(\"Test X data shape:\", X_test_imputed_df.shape)\n",
    "\n",
    "X_train_imputed_df.to_csv('./train_set/train_X_data_KNN.csv')\n",
    "X_test_imputed_df.to_csv('./test_set/test_X_data_KNN.csv')"
   ]
  },
  {
   "cell_type": "markdown",
   "metadata": {},
   "source": [
    "# Mean"
   ]
  },
  {
   "cell_type": "code",
   "execution_count": 23,
   "metadata": {},
   "outputs": [],
   "source": [
    "# SimpleImputer를 사용하여 결측치 처리\n",
    "imputerSimple = SimpleImputer(strategy='mean')  # 평균으로 결측치 채우기\n",
    "X_train_imputed = imputerSimple.fit_transform(train_X_data)\n",
    "X_test_imputed = imputerSimple.transform(test_X_data)"
   ]
  },
  {
   "cell_type": "code",
   "execution_count": 24,
   "metadata": {},
   "outputs": [],
   "source": [
    "X_train_imputed_df = pd.DataFrame(X_train_imputed)\n",
    "X_train_imputed_df.index = train_X_data.index\n",
    "X_train_imputed_df.columns = train_X_data.columns\n",
    "#print(X_train_imputed_df.shape)\n",
    "#print(X_train_imputed_df)\n",
    "\n",
    "X_test_imputed_df = pd.DataFrame(X_test_imputed)\n",
    "X_test_imputed_df.index = test_X_data.index\n",
    "X_test_imputed_df.columns = test_X_data.columns\n",
    "#print(X_test_imputed_df.shape)\n",
    "#print(X_test_imputed_df)"
   ]
  },
  {
   "cell_type": "code",
   "execution_count": 25,
   "metadata": {},
   "outputs": [
    {
     "name": "stdout",
     "output_type": "stream",
     "text": [
      "Train X data shape: (40911, 35)\n",
      "Test X data shape: (2920, 35)\n"
     ]
    }
   ],
   "source": [
    "# 데이터 확인\n",
    "print(\"Train X data shape:\", X_train_imputed_df.shape)\n",
    "print(\"Test X data shape:\", X_test_imputed_df.shape)\n",
    "\n",
    "X_train_imputed_df.to_csv('./train_set/train_X_data_mean.csv')\n",
    "X_test_imputed_df.to_csv('./test_set/test_X_data_mean.csv')"
   ]
  },
  {
   "cell_type": "markdown",
   "metadata": {},
   "source": [
    "# Most Frequent"
   ]
  },
  {
   "cell_type": "code",
   "execution_count": 26,
   "metadata": {},
   "outputs": [],
   "source": [
    "# SimpleImputer를 사용하여 결측치 처리\n",
    "imputerSimple = SimpleImputer(strategy='most_frequent')  # 평균으로 결측치 채우기\n",
    "X_train_imputed = imputerSimple.fit_transform(train_X_data)\n",
    "X_test_imputed = imputerSimple.transform(test_X_data)"
   ]
  },
  {
   "cell_type": "code",
   "execution_count": 27,
   "metadata": {},
   "outputs": [],
   "source": [
    "X_train_imputed_df = pd.DataFrame(X_train_imputed)\n",
    "X_train_imputed_df.index = train_X_data.index\n",
    "X_train_imputed_df.columns = train_X_data.columns\n",
    "#print(X_train_imputed_df.shape)\n",
    "#print(X_train_imputed_df)\n",
    "\n",
    "X_test_imputed_df = pd.DataFrame(X_test_imputed)\n",
    "X_test_imputed_df.index = test_X_data.index\n",
    "X_test_imputed_df.columns = test_X_data.columns\n",
    "#print(X_test_imputed_df.shape)\n",
    "#print(X_test_imputed_df)"
   ]
  },
  {
   "cell_type": "code",
   "execution_count": 28,
   "metadata": {},
   "outputs": [
    {
     "name": "stdout",
     "output_type": "stream",
     "text": [
      "Train X data shape: (40911, 35)\n",
      "Test X data shape: (2920, 35)\n"
     ]
    }
   ],
   "source": [
    "# 데이터 확인\n",
    "print(\"Train X data shape:\", X_train_imputed_df.shape)\n",
    "print(\"Test X data shape:\", X_test_imputed_df.shape)\n",
    "\n",
    "X_train_imputed_df.to_csv('./train_set/train_X_data_MF.csv')\n",
    "X_test_imputed_df.to_csv('./test_set/test_X_data_MF.csv')"
   ]
  },
  {
   "cell_type": "markdown",
   "metadata": {},
   "source": [
    "# Random Sampling"
   ]
  },
  {
   "cell_type": "code",
   "execution_count": 1,
   "metadata": {},
   "outputs": [],
   "source": [
    "from scipy.stats import norm\n",
    "\n",
    "# 결측값이 아닌 데이터의 분포 추정\n",
    "def estimate_distribution(column):\n",
    "    non_na_data = column.dropna()\n",
    "    mu, std = norm.fit(non_na_data)\n",
    "    return mu, std\n",
    "\n",
    "# 결측값을 추정된 분포에서 샘플링한 값으로 대체\n",
    "def fill_missing_with_distribution(df):\n",
    "    filled_df = df.copy() # 받은 데이터 복사본 만들기\n",
    "    for column in df.columns: # column 하나씩 조회\n",
    "        mu, std = estimate_distribution(df[column]) # 평균, 표준편차 구하기\n",
    "        missing_mask = df[column].isna() # 결측치의 위치 표시\n",
    "        filled_values = norm.rvs(loc=mu, scale=std, size=missing_mask.sum()) # 추정된 분포에서 샘플링\n",
    "        filled_df.loc[missing_mask, column] = filled_values # 채워 넣기\n",
    "    return filled_df"
   ]
  },
  {
   "cell_type": "code",
   "execution_count": 3,
   "metadata": {},
   "outputs": [],
   "source": [
    "# 결측치 대체\n",
    "train_X = fill_missing_with_distribution(train_X_data)\n",
    "test_X = fill_missing_with_distribution(test_X_data)"
   ]
  },
  {
   "cell_type": "code",
   "execution_count": 6,
   "metadata": {},
   "outputs": [
    {
     "name": "stdout",
     "output_type": "stream",
     "text": [
      "Train X data shape: (40911, 35)\n",
      "Test X data shape: (2920, 35)\n"
     ]
    }
   ],
   "source": [
    "# 데이터 확인\n",
    "print(\"Train X data shape:\", train_X.shape)\n",
    "print(\"Test X data shape:\", test_X.shape)\n",
    "train_X.to_csv('./train_set/train_X_data_RS.csv')\n",
    "test_X.to_csv('./test_set/test_X_data_RS.csv')"
   ]
  },
  {
   "cell_type": "markdown",
   "metadata": {},
   "source": [
    "# Median\n"
   ]
  },
  {
   "cell_type": "code",
   "execution_count": 5,
   "metadata": {},
   "outputs": [],
   "source": [
    "# SimpleImputer를 사용하여 결측치 처리\n",
    "imputerSimple = SimpleImputer(strategy='median')  # 중위값으로 결측치 채우기\n",
    "X_train_imputed = imputerSimple.fit_transform(train_X_data)\n",
    "X_test_imputed = imputerSimple.transform(test_X_data)"
   ]
  },
  {
   "cell_type": "code",
   "execution_count": 6,
   "metadata": {},
   "outputs": [],
   "source": [
    "X_train_imputed_df = pd.DataFrame(X_train_imputed)\n",
    "X_train_imputed_df.index = train_X_data.index\n",
    "X_train_imputed_df.columns = train_X_data.columns\n",
    "#print(X_train_imputed_df.shape)\n",
    "#print(X_train_imputed_df)\n",
    "\n",
    "X_test_imputed_df = pd.DataFrame(X_test_imputed)\n",
    "X_test_imputed_df.index = test_X_data.index\n",
    "X_test_imputed_df.columns = test_X_data.columns\n",
    "#print(X_test_imputed_df.shape)\n",
    "#print(X_test_imputed_df)"
   ]
  },
  {
   "cell_type": "code",
   "execution_count": 7,
   "metadata": {},
   "outputs": [
    {
     "name": "stdout",
     "output_type": "stream",
     "text": [
      "Train X data shape: (40911, 35)\n",
      "Test X data shape: (2920, 35)\n"
     ]
    }
   ],
   "source": [
    "# 데이터 확인\n",
    "print(\"Train X data shape:\", X_train_imputed_df.shape)\n",
    "print(\"Test X data shape:\", X_test_imputed_df.shape)\n",
    "\n",
    "X_train_imputed_df.to_csv('./train_set/train_X_data_median.csv')\n",
    "X_test_imputed_df.to_csv('./test_set/test_X_data_median.csv')"
   ]
  },
  {
   "cell_type": "code",
   "execution_count": null,
   "metadata": {},
   "outputs": [],
   "source": []
  }
 ],
 "metadata": {
  "kernelspec": {
   "display_name": "Python 3",
   "language": "python",
   "name": "python3"
  },
  "language_info": {
   "codemirror_mode": {
    "name": "ipython",
    "version": 3
   },
   "file_extension": ".py",
   "mimetype": "text/x-python",
   "name": "python",
   "nbconvert_exporter": "python",
   "pygments_lexer": "ipython3",
   "version": "3.9.18"
  }
 },
 "nbformat": 4,
 "nbformat_minor": 2
}
